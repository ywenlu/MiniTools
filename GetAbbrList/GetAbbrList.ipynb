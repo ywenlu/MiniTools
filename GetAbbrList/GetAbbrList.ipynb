{
 "cells": [
  {
   "cell_type": "code",
   "execution_count": 90,
   "metadata": {
    "collapsed": false,
    "scrolled": true
   },
   "outputs": [
    {
     "name": "stdout",
     "output_type": "stream",
     "text": [
      "conclusion.tex\n",
      "introduction.tex\n",
      "experiment.tex\n",
      "clustering.tex\n",
      "embed.tex\n",
      "affectiveGaming.tex\n",
      "userspecific.tex\n",
      "signal.tex\n",
      "DataAna.tex\n",
      "personalization.tex\n"
     ]
    }
   ],
   "source": [
    "import os\n",
    "import re\n",
    "from os.path import isfile, join\n",
    "import pandas as pd\n",
    "import sys\n",
    "\n",
    "#path = '/home/wenlu/Téléchargements/Thesis_corrMariaall/chapters/'\n",
    "path = sys.argv[1]\n",
    "onlyfiles = [f for f in os.listdir(path) if isfile(join(path, f))]\n",
    "\n",
    "abbfs=list()\n",
    "refs=list()\n",
    "for f in os.listdir(path):\n",
    "    with open(path+f,'r',encoding='utf-8') as fc:\n",
    "        print (f)\n",
    "        contents = fc.read()\n",
    "        abbf = list(re.findall(r'[A-Z]{2,}',contents))\n",
    "        ref = list(re.findall(r'[\\s\\w-]+\\s+\\([A-Z]{2,}\\)',contents))\n",
    "        abbfs=abbfs+abbf\n",
    "        refs = refs+ref\n",
    "abb = list(set(abbfs)) #remove repeated strings\n",
    "abb.sort()\n",
    "df = pd.DataFrame(abb,columns=['Abbreviation'])\n",
    "df['Meaning'] = ''\n",
    "df.to_csv('./'+'csvOutput.csv',index=False)\n",
    "df.to_latex('./'+'latexOutput.tex',index=False)\n",
    "refdf=pd.DataFrame(refs,columns=['txt'])\n",
    "refdf.to_csv('./'+'ref.csv',index=False)"
   ]
  },
  {
   "cell_type": "code",
   "execution_count": 93,
   "metadata": {
    "collapsed": false
   },
   "outputs": [
    {
     "data": {
      "text/html": [
       "<div>\n",
       "<style>\n",
       "    .dataframe thead tr:only-child th {\n",
       "        text-align: right;\n",
       "    }\n",
       "\n",
       "    .dataframe thead th {\n",
       "        text-align: left;\n",
       "    }\n",
       "\n",
       "    .dataframe tbody tr th {\n",
       "        vertical-align: top;\n",
       "    }\n",
       "</style>\n",
       "<table border=\"1\" class=\"dataframe\">\n",
       "  <thead>\n",
       "    <tr style=\"text-align: right;\">\n",
       "      <th></th>\n",
       "      <th>Abbreviation</th>\n",
       "      <th>Meaning</th>\n",
       "    </tr>\n",
       "  </thead>\n",
       "  <tbody>\n",
       "    <tr>\n",
       "      <th>0</th>\n",
       "      <td>ACC</td>\n",
       "      <td></td>\n",
       "    </tr>\n",
       "    <tr>\n",
       "      <th>1</th>\n",
       "      <td>AG</td>\n",
       "      <td></td>\n",
       "    </tr>\n",
       "    <tr>\n",
       "      <th>2</th>\n",
       "      <td>AI</td>\n",
       "      <td></td>\n",
       "    </tr>\n",
       "    <tr>\n",
       "      <th>3</th>\n",
       "      <td>ARM</td>\n",
       "      <td></td>\n",
       "    </tr>\n",
       "    <tr>\n",
       "      <th>4</th>\n",
       "      <td>AUC</td>\n",
       "      <td></td>\n",
       "    </tr>\n",
       "  </tbody>\n",
       "</table>\n",
       "</div>"
      ],
      "text/plain": [
       "  Abbreviation Meaning\n",
       "0          ACC        \n",
       "1           AG        \n",
       "2           AI        \n",
       "3          ARM        \n",
       "4          AUC        "
      ]
     },
     "execution_count": 93,
     "metadata": {},
     "output_type": "execute_result"
    }
   ],
   "source": [
    "df.head()"
   ]
  },
  {
   "cell_type": "code",
   "execution_count": 91,
   "metadata": {
    "collapsed": false
   },
   "outputs": [
    {
     "data": {
      "text/plain": [
       "[' represents the generalization ability (GA)',\n",
       " 'leave-one-subject-out cross-validation (LOSOCV)',\n",
       " 'leave-one-out cross-validation (LOOCV)',\n",
       " ' the model predicting ability (PA)',\n",
       " ' the model generalization ability (GA)']"
      ]
     },
     "execution_count": 91,
     "metadata": {},
     "output_type": "execute_result"
    }
   ],
   "source": [
    "ref"
   ]
  }
 ],
 "metadata": {
  "anaconda-cloud": {},
  "kernelspec": {
   "display_name": "Python [conda env:python3]",
   "language": "python",
   "name": "conda-env-python3-py"
  },
  "language_info": {
   "codemirror_mode": {
    "name": "ipython",
    "version": 3
   },
   "file_extension": ".py",
   "mimetype": "text/x-python",
   "name": "python",
   "nbconvert_exporter": "python",
   "pygments_lexer": "ipython3",
   "version": "3.6.2"
  }
 },
 "nbformat": 4,
 "nbformat_minor": 1
}
