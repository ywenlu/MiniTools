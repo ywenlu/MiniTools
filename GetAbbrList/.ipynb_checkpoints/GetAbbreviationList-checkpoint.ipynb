{
 "cells": [
  {
   "cell_type": "code",
   "execution_count": 90,
   "metadata": {
    "collapsed": false,
    "scrolled": true
   },
   "outputs": [
    {
     "name": "stdout",
     "output_type": "stream",
     "text": [
      "conclusion.tex\n",
      "introduction.tex\n",
      "experiment.tex\n",
      "clustering.tex\n",
      "embed.tex\n",
      "affectiveGaming.tex\n",
      "userspecific.tex\n",
      "signal.tex\n",
      "DataAna.tex\n",
      "personalization.tex\n"
     ]
    }
   ],
   "source": [
    "import os\n",
    "import re\n",
    "from os.path import isfile, join\n",
    "import pandas as pd\n",
    "import sys\n",
    "\n",
    "#path = '/home/wenlu/Téléchargements/Thesis_corrMariaall/chapters/'\n",
    "path = sys.argv[1]\n",
    "onlyfiles = [f for f in os.listdir(path) if isfile(join(path, f))]\n",
    "\n",
    "abbfs=list()\n",
    "refs=list()\n",
    "for f in os.listdir(path):\n",
    "    with open(path+f,'r',encoding='utf-8') as fc:\n",
    "        print (f)\n",
    "        contents = fc.read()\n",
    "        abbf = list(re.findall(r'[A-Z]{2,}',contents))\n",
    "        ref = list(re.findall(r'[\\s\\w-]+\\s+\\([A-Z]{2,}\\)',contents))\n",
    "        abbfs=abbfs+abbf\n",
    "        refs = refs+ref\n",
    "abb = list(set(abbfs)) #remove repeated strings\n",
    "abb.sort()\n",
    "df = pd.DataFrame(abb,columns=['Abbreviation'])\n",
    "df['Meaning'] = ''\n",
    "df.to_csv('./'+'csvOutput.csv',index=False)\n",
    "df.to_latex('./'+'latexOutput.tex',index=False)\n",
    "refdf=pd.DataFrame(refs,columns=['txt'])\n",
    "refdf.to_csv('./'+'ref.csv',index=False)"
   ]
  },
  {
   "cell_type": "code",
   "execution_count": 86,
   "metadata": {
    "collapsed": false
   },
   "outputs": [
    {
     "data": {
      "text/plain": [
       "['musement (DIA)',\n",
       " ' there have been increasing interests in the field of\\nHuman Computer Interaction (HCI)',\n",
       " ' signals include electroencephalography (EEG)',\n",
       " ' measurements include electrocardiography (ECG)',\n",
       " ' Electrooculography (EOG)',\n",
       " ' electromyography (EMG)',\n",
       " ' electrodermal activity (EDA)',\n",
       " ' blood volume (BVP)',\n",
       " ' respiration (RSP)',\n",
       " ' skin temperature (SKT)',\n",
       " ' measuring electroencephalographic (EEG)',\n",
       " ' Bayesian Networks (BNT)',\n",
       " ' Regression Trees (RT)',\n",
       " ' and Decision Trees  (DT)',\n",
       " ' Naïve Bayes Classifier  (NB)',\n",
       " ' Linear Discriminant Analysis (LDA)',\n",
       " ' and Support Vector Machines (SVM)',\n",
       " ' Vera am Mittag (VAM)',\n",
       " '\\nSignals from the  central nervous system (CNS)',\n",
       " ' such as Electro-EncephaloGram (EEG)',\n",
       " ' or Magneto-EncephaloGram (MEG)',\n",
       " ' have been able to non-intrusively measure signals from peripheral nervous system (PNS)',\n",
       " ' Multimedia content analysis (MCA)',\n",
       " ' and MEG and MCA features are used to learn multi-task learning (MTL)',\n",
       " ' and orbicularis oculi electromyographic activity (EMG)',\n",
       " ' skin conductance level (EDA)',\n",
       " ' and cardiac interbeat intervals (IBI)',\n",
       " ' profile the stress responses on the EDA of patients diagnosed with post-traumatic stress disorder (PTSD)',\n",
       " 'heart rate (HR)',\n",
       " ' blood volume pulse (BVP)',\n",
       " ' and skin conductance (EDA)',\n",
       " ' respiration (RESP)',\n",
       " ' temperature (TEMP)',\n",
       " ' Game Experience Questionnaire (GEQ)',\n",
       " ' and amusement (DIA)',\n",
       " ' as high sampling rate is recommended for measuring heart rate variability (HRV)',\n",
       " ' two Electromyogram (EMG)',\n",
       " 'item two Electromyogram (EMG)',\n",
       " ' Electromyogram (EMG)',\n",
       " ' the most annotated events are events with high level of arousal and low level of valence (HALV)',\n",
       " ' followed by events with high level of arousal and high level of valence (HAHV)',\n",
       " ' and then the events with low level of arousal and low level of valence (LALV)',\n",
       " '\\nEvents with low level of arousal and high level of valence (LAHV)',\n",
       " '\\n\\nAffective Gaming  (AG)',\n",
       " ' They created the facial  action  coding  system (FACS)',\n",
       " ' analyzes the faces through an holistic spatial analysis by using the method such as Principal Component Analysis (PCA)',\n",
       " ' signals include electroencephalography (EEG)',\n",
       " ' measurements include electrocardiography (ECG)',\n",
       " '\\nElectrooculography (EOG)',\n",
       " ' electromyography (EMG)',\n",
       " ' electrodermal activity (EDA)',\n",
       " '\\nblood volume (BVP)',\n",
       " ' respiration (RSP)',\n",
       " ' skin temperature (SKT)',\n",
       " '\\n\\nElectroencephalography  (EEG)',\n",
       " '  and  other methods such as MRI  measure electrical  activity caused spontaneously by functioning of the central nervous system (CNS)',\n",
       " '\\n\\nPeripheral nervous system (PNS)',\n",
       " '\\nCommon emotion assessment of human computer interaction  (HCI)',\n",
       " ' Dynamic Difficulty Adjustment (DDA)',\n",
       " '\\nelectroencephalogram  (EEG)',\n",
       " ' we applied recursive feature elimination (RFE)',\n",
       " ' scores smaller or equal to 1 are split into low arousal (LA)',\n",
       " ' class and the scores strictly greater than 1 are split into high arousal (HA)',\n",
       " ' we use a Leave One Out cross-validation (LOOCV)',\n",
       " ' and wrapper (RFE)',\n",
       " ' in order to analysis the heart rate (HR)',\n",
       " ' or the heart rate variability (HRV)',\n",
       " ' A Teager energy operator (TEO)',\n",
       " 'recurrent quantification analysis feature set (RQA)',\n",
       " ' recurrent quantification analysis (RQA)',\n",
       " ' recurrent rate (RR)',\n",
       " ' determinism (DET)',\n",
       " ' entropy (ENTR)',\n",
       " ' Then we apply a R-peak detection and compute the inter-beat-interval (IBI)',\n",
       " ' heart rate (HR)',\n",
       " ' and  heart rate viability (HRV)',\n",
       " ' The transformed signals include the respiration rate (RR)',\n",
       " 'Recurrent rate (RR)',\n",
       " 'Determinism (DET)',\n",
       " 'Entropy (ENTR)',\n",
       " 'item Mean-centering (MC)',\n",
       " 'item Range normalization (RN)',\n",
       " 'item Standardization (ST)',\n",
       " 'item Box-Cox transformation (BC)',\n",
       " 'Mean-centering (MC)',\n",
       " 'Range normalization (RN)',\n",
       " 'Standardization (ST)',\n",
       " 'Accuracy  (ACC)',\n",
       " ' while the event group with low level of arousal and valence (LALV)',\n",
       " ' events with high arousal level (HA)',\n",
       " ' are easier to detect than low arousal (LA)',\n",
       " 'Accuracy  (ACC)',\n",
       " ' immersion and amusement (DIA)',\n",
       " '\\n    Decision tree (DT)',\n",
       " 'Accuracy  (ACC)',\n",
       " ' represents the generalization ability (GA)',\n",
       " 'leave-one-subject-out cross-validation (LOSOCV)',\n",
       " 'leave-one-out cross-validation (LOOCV)',\n",
       " ' the model predicting ability (PA)',\n",
       " ' the model generalization ability (GA)']"
      ]
     },
     "execution_count": 86,
     "metadata": {},
     "output_type": "execute_result"
    }
   ],
   "source": [
    "refs"
   ]
  },
  {
   "cell_type": "code",
   "execution_count": 59,
   "metadata": {
    "collapsed": true
   },
   "outputs": [],
   "source": []
  }
 ],
 "metadata": {
  "anaconda-cloud": {},
  "kernelspec": {
   "display_name": "Python [conda env:python3]",
   "language": "python",
   "name": "conda-env-python3-py"
  },
  "language_info": {
   "codemirror_mode": {
    "name": "ipython",
    "version": 3
   },
   "file_extension": ".py",
   "mimetype": "text/x-python",
   "name": "python",
   "nbconvert_exporter": "python",
   "pygments_lexer": "ipython3",
   "version": "3.6.2"
  }
 },
 "nbformat": 4,
 "nbformat_minor": 1
}
